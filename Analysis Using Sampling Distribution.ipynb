{
 "cells": [
  {
   "cell_type": "markdown",
   "id": "63bed22c-1c15-42c0-ad5e-df580d8f2acb",
   "metadata": {},
   "source": [
    "# Project Title: Diabetes Treatment Outcome - HbA1c Level Analysis Using Sampling Distributions"
   ]
  },
  {
   "cell_type": "markdown",
   "id": "7e560936-0147-4bb0-a2d1-7c2497acf679",
   "metadata": {},
   "source": [
    "### Objective: The goal of this project is to estimate the average `HbA1c level` for diabetes patients and evaluate the effectiveness of treatment plans in lowering blood sugar levels. We will use `sampling distributions` to generalize the findings from a sample of patients to the larger population."
   ]
  },
  {
   "cell_type": "code",
   "execution_count": null,
   "id": "7f48cd54-e6f3-4a5b-974b-95110b499267",
   "metadata": {},
   "outputs": [],
   "source": []
  },
  {
   "cell_type": "markdown",
   "id": "996bc247-d226-4b63-bc4b-52c002292bd8",
   "metadata": {},
   "source": [
    "## Import Required Libraries:"
   ]
  },
  {
   "cell_type": "code",
   "execution_count": 127,
   "id": "b9e14c4d-8e2f-4c81-9cc2-2b524498a24f",
   "metadata": {},
   "outputs": [],
   "source": [
    "import pandas as pd\n",
    "import numpy as np\n",
    "import seaborn as sns\n",
    "import matplotlib.pyplot as plt\n",
    "from scipy import stats"
   ]
  },
  {
   "cell_type": "code",
   "execution_count": null,
   "id": "bba988bd-c0e0-4c68-a995-7232a9e094f2",
   "metadata": {},
   "outputs": [],
   "source": []
  },
  {
   "cell_type": "markdown",
   "id": "f4d50c95-47d0-4e83-a933-7e6511f80ab3",
   "metadata": {},
   "source": [
    "## Load and Display Datasets:"
   ]
  },
  {
   "cell_type": "code",
   "execution_count": 158,
   "id": "e157a556-8cfe-4bf9-b1a7-0b97ac7c313e",
   "metadata": {},
   "outputs": [
    {
     "name": "stdout",
     "output_type": "stream",
     "text": [
      "  given_name     surname   auralin   novodra  hba1c_start  hba1c_end  \\\n",
      "0   veronika    jindrová  41u  48u       NaN         7.63       7.20   \n",
      "1     elliot  richardson       NaN  40u  45u         7.56       7.09   \n",
      "2   yukitaka    takenaka       NaN  39u  36u         7.68       7.25   \n",
      "3       skye  gormanston  33u  36u       NaN         7.97       7.62   \n",
      "4     alissa      montez       NaN  33u  29u         7.78       7.46   \n",
      "\n",
      "   hba1c_change  \n",
      "0           NaN  \n",
      "1          0.97  \n",
      "2           NaN  \n",
      "3          0.35  \n",
      "4          0.32  \n",
      "  given_name    surname   auralin   novodra  hba1c_start  hba1c_end  \\\n",
      "0      jožka  resanovič  22u  30u       NaN         7.56       7.22   \n",
      "1  inunnguaq   heilmann  57u  67u       NaN         7.85       7.45   \n",
      "2      alwin   svensson  36u  39u       NaN         7.78       7.34   \n",
      "3        thể      lương       NaN  61u  64u         7.64       7.22   \n",
      "4     amanda    ribeiro  36u  44u       NaN         7.85       7.47   \n",
      "\n",
      "   hba1c_change  \n",
      "0          0.34  \n",
      "1           NaN  \n",
      "2           NaN  \n",
      "3          0.92  \n",
      "4          0.38  \n"
     ]
    }
   ],
   "source": [
    "# Load the two datasets\n",
    "treatments = pd.read_csv(\"treatments.csv\")\n",
    "treatments_cut = pd.read_csv(\"treatments_cut.csv\")\n",
    "\n",
    "# Display first few rows of each dataset\n",
    "print(treatments.head())\n",
    "print(treatments_cut.head())"
   ]
  },
  {
   "cell_type": "code",
   "execution_count": null,
   "id": "bd21ed91-28d1-4684-9e79-6e35886f409a",
   "metadata": {},
   "outputs": [],
   "source": []
  },
  {
   "cell_type": "markdown",
   "id": "3c48731f-b876-40bb-9e8c-ca4acb8438e5",
   "metadata": {},
   "source": [
    "## Combine the Datasets:"
   ]
  },
  {
   "cell_type": "code",
   "execution_count": 159,
   "id": "594f9e41-60af-4a2e-94f0-ad44dd380be7",
   "metadata": {},
   "outputs": [
    {
     "name": "stdout",
     "output_type": "stream",
     "text": [
      "  given_name     surname   auralin   novodra  hba1c_start  hba1c_end  \\\n",
      "0   veronika    jindrová  41u  48u       NaN         7.63       7.20   \n",
      "1     elliot  richardson       NaN  40u  45u         7.56       7.09   \n",
      "2   yukitaka    takenaka       NaN  39u  36u         7.68       7.25   \n",
      "3       skye  gormanston  33u  36u       NaN         7.97       7.62   \n",
      "4     alissa      montez       NaN  33u  29u         7.78       7.46   \n",
      "\n",
      "   hba1c_change  \n",
      "0           NaN  \n",
      "1          0.97  \n",
      "2           NaN  \n",
      "3          0.35  \n",
      "4          0.32  \n"
     ]
    }
   ],
   "source": [
    "# Combine the two datasets\n",
    "treatments_all = pd.concat([treatments, treatments_cut], axis=0, ignore_index=True)\n",
    "\n",
    "# Display first few rows of the combined dataset\n",
    "print(treatments_all.head())"
   ]
  },
  {
   "cell_type": "code",
   "execution_count": null,
   "id": "9380d569-7cdf-4d50-92b4-a76cf8a7d870",
   "metadata": {},
   "outputs": [],
   "source": []
  },
  {
   "cell_type": "code",
   "execution_count": null,
   "id": "af4b24fc-a66e-4b9e-bcd9-fd358ecd8d5f",
   "metadata": {},
   "outputs": [],
   "source": []
  },
  {
   "cell_type": "markdown",
   "id": "e8f199b6-4f89-4d2d-bc3b-381aa9887c2e",
   "metadata": {},
   "source": [
    "# Data Assessment:"
   ]
  },
  {
   "cell_type": "markdown",
   "id": "cbfa4094-784b-436f-83ef-6ea3bb3f7fb1",
   "metadata": {},
   "source": [
    "### Total Number of Rows:"
   ]
  },
  {
   "cell_type": "code",
   "execution_count": 160,
   "id": "b625311f-e012-4320-8046-c208c51fee8b",
   "metadata": {},
   "outputs": [
    {
     "name": "stdout",
     "output_type": "stream",
     "text": [
      "350\n"
     ]
    }
   ],
   "source": [
    "print(len(treatments_all))"
   ]
  },
  {
   "cell_type": "code",
   "execution_count": null,
   "id": "482a662e-be85-4d2e-95d8-85804318e022",
   "metadata": {},
   "outputs": [],
   "source": []
  },
  {
   "cell_type": "markdown",
   "id": "4b01f4e5-1cbd-4317-8772-37e257da3e6c",
   "metadata": {},
   "source": [
    "### Data Types and Column Information:"
   ]
  },
  {
   "cell_type": "code",
   "execution_count": 161,
   "id": "1f4d0e52-78b6-456a-b5bf-08525a22b486",
   "metadata": {},
   "outputs": [
    {
     "name": "stdout",
     "output_type": "stream",
     "text": [
      "<class 'pandas.core.frame.DataFrame'>\n",
      "RangeIndex: 350 entries, 0 to 349\n",
      "Data columns (total 7 columns):\n",
      " #   Column        Non-Null Count  Dtype  \n",
      "---  ------        --------------  -----  \n",
      " 0   given_name    350 non-null    object \n",
      " 1   surname       350 non-null    object \n",
      " 2   auralin       175 non-null    object \n",
      " 3   novodra       175 non-null    object \n",
      " 4   hba1c_start   350 non-null    float64\n",
      " 5   hba1c_end     350 non-null    float64\n",
      " 6   hba1c_change  213 non-null    float64\n",
      "dtypes: float64(3), object(4)\n",
      "memory usage: 19.3+ KB\n",
      "None\n"
     ]
    }
   ],
   "source": [
    "print(treatments_all.info())"
   ]
  },
  {
   "cell_type": "code",
   "execution_count": null,
   "id": "f2a00699-3359-4804-b584-f539d20b84b3",
   "metadata": {},
   "outputs": [],
   "source": []
  },
  {
   "cell_type": "markdown",
   "id": "16f63608-d0fa-40ac-994c-8479de4e0a26",
   "metadata": {},
   "source": [
    "### Column Names:"
   ]
  },
  {
   "cell_type": "code",
   "execution_count": 165,
   "id": "564a374f-d736-4f98-a871-3225cef089b1",
   "metadata": {},
   "outputs": [
    {
     "name": "stdout",
     "output_type": "stream",
     "text": [
      "['given_name', 'surname', 'auralin', 'novodra', 'hba1c_start', 'hba1c_end', 'hba1c_change']\n"
     ]
    }
   ],
   "source": [
    "print(list(treatments_all.columns))"
   ]
  },
  {
   "cell_type": "code",
   "execution_count": null,
   "id": "6e57647a-dbce-48d6-be94-c8a991d36caa",
   "metadata": {},
   "outputs": [],
   "source": []
  },
  {
   "cell_type": "markdown",
   "id": "474da000-4395-4626-b638-f426bf9f4646",
   "metadata": {},
   "source": [
    "### Missing Values:"
   ]
  },
  {
   "cell_type": "code",
   "execution_count": 166,
   "id": "ca5a1d39-fbd0-4c39-bba2-b842a8caf1b3",
   "metadata": {},
   "outputs": [
    {
     "name": "stdout",
     "output_type": "stream",
     "text": [
      "given_name        0\n",
      "surname           0\n",
      "auralin         175\n",
      "novodra         175\n",
      "hba1c_start       0\n",
      "hba1c_end         0\n",
      "hba1c_change    137\n",
      "dtype: int64\n"
     ]
    }
   ],
   "source": [
    "print(treatments_all.isnull().sum())"
   ]
  },
  {
   "cell_type": "code",
   "execution_count": null,
   "id": "99beb9c8-f3b7-4dc8-9cce-cb0ebe10f0f9",
   "metadata": {},
   "outputs": [],
   "source": []
  },
  {
   "cell_type": "code",
   "execution_count": null,
   "id": "e6bb1b2d-08c2-473d-aebe-9db0608310ed",
   "metadata": {},
   "outputs": [],
   "source": []
  },
  {
   "cell_type": "markdown",
   "id": "8a6997bd-0be7-438d-b0f5-853621c9e9d9",
   "metadata": {},
   "source": [
    "# Data Cleaning:"
   ]
  },
  {
   "cell_type": "markdown",
   "id": "b113296d-86e9-49fe-9b03-4456a576bbe8",
   "metadata": {},
   "source": [
    "### Filling Missing Values:"
   ]
  },
  {
   "cell_type": "code",
   "execution_count": 177,
   "id": "9181aea9-d6b7-4329-bd83-3e835a12e64e",
   "metadata": {},
   "outputs": [
    {
     "name": "stdout",
     "output_type": "stream",
     "text": [
      "  given_name     surname   auralin   novodra  hba1c_start  hba1c_end  \\\n",
      "0   veronika    jindrová  41u  48u   Unknown         7.63       7.20   \n",
      "1     elliot  richardson   Unknown  40u  45u         7.56       7.09   \n",
      "2   yukitaka    takenaka   Unknown  39u  36u         7.68       7.25   \n",
      "3       skye  gormanston  33u  36u   Unknown         7.97       7.62   \n",
      "4     alissa      montez   Unknown  33u  29u         7.78       7.46   \n",
      "\n",
      "  hba1c_change  \n",
      "0      Unknown  \n",
      "1         0.97  \n",
      "2      Unknown  \n",
      "3         0.35  \n",
      "4         0.32  \n",
      "given_name      0\n",
      "surname         0\n",
      "auralin         0\n",
      "novodra         0\n",
      "hba1c_start     0\n",
      "hba1c_end       0\n",
      "hba1c_change    0\n",
      "dtype: int64\n"
     ]
    }
   ],
   "source": [
    "# Fill missing values with 'Unknown'\n",
    "df = treatments_all.fillna('Unknown')\n",
    "\n",
    "# Display first few rows after filling missing values\n",
    "print(df.head())\n",
    "\n",
    "# Check for missing values again\n",
    "print(df.isnull().sum())"
   ]
  },
  {
   "cell_type": "code",
   "execution_count": null,
   "id": "4017cd15-7f7f-4698-b40c-39489783698f",
   "metadata": {},
   "outputs": [],
   "source": []
  },
  {
   "cell_type": "code",
   "execution_count": null,
   "id": "c31cbabb-c546-4bec-bed3-a8dae60c76fa",
   "metadata": {},
   "outputs": [],
   "source": []
  },
  {
   "cell_type": "markdown",
   "id": "c0d3ebee-3adf-460f-a066-e575b8f95a04",
   "metadata": {},
   "source": [
    "# Data Analysis"
   ]
  },
  {
   "cell_type": "markdown",
   "id": "76a3fe65-3753-4c98-ace4-28cab0937443",
   "metadata": {},
   "source": [
    "## Sampling HbA1c Data:"
   ]
  },
  {
   "cell_type": "markdown",
   "id": "d632d7af-1027-4dd8-9d99-9a68861944b9",
   "metadata": {},
   "source": [
    "## We will randomly sample 30 patients to estimate the average change in HbA1c levels."
   ]
  },
  {
   "cell_type": "code",
   "execution_count": 180,
   "id": "ad941c5f-ed0e-446b-9bec-5fc87d94aa60",
   "metadata": {},
   "outputs": [
    {
     "name": "stdout",
     "output_type": "stream",
     "text": [
      "Mean HbA1c Change (Sample): 0.5964999999999999\n",
      "Standard Deviation of HbA1c Change (Sample): 0.2871873586134467\n"
     ]
    }
   ],
   "source": [
    "# Take a random sample of 30 patients\n",
    "sample = df.sample(n=30, random_state=42)\n",
    "\n",
    "# Convert the 'hba1c_change' column to numeric, coercing errors\n",
    "df['hba1c_change'] = pd.to_numeric(df['hba1c_change'], errors='coerce')\n",
    "\n",
    "# Calculate Mean and STANDARD DEVIATION for the sample\n",
    "mean_sample = sample['hba1c_change'].mean()\n",
    "std_sample = sample['hba1c_change'].std()\n",
    "\n",
    "print(f'Mean HbA1c Change (Sample): {mean_sample}')\n",
    "print(f'Standard Deviation of HbA1c Change (Sample): {std_sample}')"
   ]
  },
  {
   "cell_type": "code",
   "execution_count": null,
   "id": "dd6de6c3-d81c-43d8-a7a3-4902df1de13f",
   "metadata": {},
   "outputs": [],
   "source": []
  },
  {
   "cell_type": "code",
   "execution_count": null,
   "id": "c1a09424-d609-42c8-8f41-1a80ccf2b1bf",
   "metadata": {},
   "outputs": [],
   "source": []
  },
  {
   "cell_type": "markdown",
   "id": "406302f1-a54d-4c30-99ad-999db793e8f8",
   "metadata": {},
   "source": [
    "# Build the Sampling Distribution:"
   ]
  },
  {
   "cell_type": "markdown",
   "id": "4b504704-9d69-471f-94c6-8f2e1f4a40cc",
   "metadata": {},
   "source": [
    "#### Multiple random samples from the dataset, calculate the mean `HbA1c change` for each sample, and store these means to build the sampling distribution:"
   ]
  },
  {
   "cell_type": "code",
   "execution_count": 171,
   "id": "4f4a04dc-ed4c-45f8-a407-e40cade284ea",
   "metadata": {},
   "outputs": [],
   "source": [
    "# Number of samples to take\n",
    "samp_size = 1000\n",
    "sample_means = []\n",
    "\n",
    "# Build the sampling distribution\n",
    "for i in range(samp_size):\n",
    "    random_sample = df['hba1c_change'].sample(n=30, replace=False)\n",
    "    sample_means.append(random_sample.mean())\n",
    "\n",
    "# Convert to a numpy array\n",
    "sample_means = np.array(sample_means)"
   ]
  },
  {
   "cell_type": "code",
   "execution_count": null,
   "id": "4360c750-ec55-4d9d-aa0c-6ff1cb715c6c",
   "metadata": {},
   "outputs": [],
   "source": []
  },
  {
   "cell_type": "code",
   "execution_count": null,
   "id": "24770812-1423-4dfc-bc86-c884a8f4eb69",
   "metadata": {},
   "outputs": [],
   "source": []
  },
  {
   "cell_type": "markdown",
   "id": "4048862a-56f3-466e-a1b0-21db65cc9d05",
   "metadata": {},
   "source": [
    "# Visualize the Sampling Distribution:"
   ]
  },
  {
   "cell_type": "code",
   "execution_count": 172,
   "id": "cc3d7992-d21b-4b94-a909-7da8d74d299b",
   "metadata": {},
   "outputs": [
    {
     "data": {
      "image/png": "[encoded data removed]",
      "text/plain": [
       "<Figure size 640x480 with 1 Axes>"
      ]
     },
     "metadata": {},
     "output_type": "display_data"
    }
   ],
   "source": [
    "# Plot the sampling distribution\n",
    "sns.histplot(sample_means, kde=True, color='green')\n",
    "plt.title('Sampling Distribution of HbA1c Change')\n",
    "plt.xlabel('Sample Mean HbA1c Change')\n",
    "plt.ylabel('Frequency')\n",
    "plt.show()"
   ]
  },
  {
   "cell_type": "code",
   "execution_count": null,
   "id": "f08b00ab-64ff-4be7-87c4-ed1c5675ae89",
   "metadata": {},
   "outputs": [],
   "source": []
  },
  {
   "cell_type": "code",
   "execution_count": null,
   "id": "a3a61151-f4a7-4367-b00d-572c1ebd7768",
   "metadata": {},
   "outputs": [],
   "source": []
  },
  {
   "cell_type": "markdown",
   "id": "0f8d52a4-e4c1-45d9-8eab-c45be4cdd545",
   "metadata": {},
   "source": [
    "# Analyze the Sampling Distribution:"
   ]
  },
  {
   "cell_type": "markdown",
   "id": "0dd9cdf0-09d9-4164-8029-9f9b00d52bbf",
   "metadata": {},
   "source": [
    "#### Estimate the overall average change in HbA1c levels across all patients by analyzing the sampling distribution."
   ]
  },
  {
   "cell_type": "code",
   "execution_count": 173,
   "id": "ba2fc589-2bbe-4409-b9a7-20dcd8cd7bdc",
   "metadata": {},
   "outputs": [
    {
     "name": "stdout",
     "output_type": "stream",
     "text": [
      "Estimated Mean HbA1c Change: 0.541446146546045\n",
      "Standard Error: 0.06329395459924915\n"
     ]
    }
   ],
   "source": [
    "# Calculate MEAN and STANDARD DEVIATION of the sampling distribution\n",
    "mean_of_sample_means = np.mean(sample_means)\n",
    "std_of_sample_means = np.std(sample_means)\n",
    "\n",
    "# Print the results\n",
    "print(f'Estimated Mean HbA1c Change: {mean_of_sample_means}')\n",
    "print(f'Standard Error: {std_of_sample_means}')"
   ]
  },
  {
   "cell_type": "code",
   "execution_count": null,
   "id": "eae998a6-97f6-4a7f-a7d8-fd9de4c6a717",
   "metadata": {},
   "outputs": [],
   "source": []
  },
  {
   "cell_type": "code",
   "execution_count": null,
   "id": "08dd8dcb-4d29-44e3-9a06-231c8e1f22f7",
   "metadata": {},
   "outputs": [],
   "source": []
  },
  {
   "cell_type": "markdown",
   "id": "89b9d758-2a03-4adc-aaac-b06dfba53835",
   "metadata": {},
   "source": [
    "# Calculate Confidence Intervals:"
   ]
  },
  {
   "cell_type": "markdown",
   "id": "64da2d44-a216-43b3-94a2-f9100e464d97",
   "metadata": {},
   "source": [
    "### A 95% confidence interval will provide a range within which the true mean HbA1c change lies."
   ]
  },
  {
   "cell_type": "code",
   "execution_count": 174,
   "id": "040de9d5-d14c-4ae0-8447-4ac961958d97",
   "metadata": {},
   "outputs": [
    {
     "name": "stdout",
     "output_type": "stream",
     "text": [
      "95% Confidence Interval for HbA1c Change: 0.41724179519684024 to 0.6656504978952497\n"
     ]
    }
   ],
   "source": [
    "# 95% Confidence Interval\n",
    "confidence_level = 0.95\n",
    "ci = stats.t.interval(confidence_level, df=len(sample_means)-1, loc=mean_of_sample_means, scale=std_of_sample_means)\n",
    "\n",
    "# Print confidence interval\n",
    "print(f'95% Confidence Interval for HbA1c Change: {ci[0]} to {ci[1]}')"
   ]
  },
  {
   "cell_type": "code",
   "execution_count": null,
   "id": "d8c323d1-f8a2-4609-af0c-68514839fc29",
   "metadata": {},
   "outputs": [],
   "source": []
  },
  {
   "cell_type": "code",
   "execution_count": null,
   "id": "a6a2d858-ae90-4cf1-a037-4e44eeac62ac",
   "metadata": {},
   "outputs": [],
   "source": []
  },
  {
   "cell_type": "markdown",
   "id": "afcb9c31-66ec-4227-b7cd-70b7e0cc3dc1",
   "metadata": {},
   "source": [
    "# Results Summary:"
   ]
  },
  {
   "cell_type": "markdown",
   "id": "98b425fe-f3a8-4ed5-b283-9569138d4284",
   "metadata": {},
   "source": [
    "### Mean HbA1c Change (Sample): 0.5965\n",
    "### Standard Deviation of HbA1c Change (Sample): 0.2872\n",
    "### Estimated Mean HbA1c Change (Population): 0.5414\n",
    "### Standard Error: 0.06329\n",
    "### 95% Confidence Interval for HbA1c Change: 0.4172 to 0.6656"
   ]
  },
  {
   "cell_type": "code",
   "execution_count": null,
   "id": "1aaab5b1-ab5a-48bc-bbc8-f69e15c294b9",
   "metadata": {},
   "outputs": [],
   "source": []
  },
  {
   "cell_type": "code",
   "execution_count": null,
   "id": "64443ffe-e587-408c-9f2c-720240ec7b2e",
   "metadata": {},
   "outputs": [],
   "source": []
  },
  {
   "cell_type": "markdown",
   "id": "16eea8f3-6070-4908-b1f7-3c92766a0bc0",
   "metadata": {},
   "source": [
    "# Summary:"
   ]
  },
  {
   "cell_type": "markdown",
   "id": "77e37a3d-5df1-4724-b255-88ae099d9a0c",
   "metadata": {},
   "source": [
    "### This project successfully demonstrates how sampling distributions can be applied to generalize findings from a sample to a population in a medical context, specifically evaluating the effectiveness of diabetes treatments by monitoring HbA1c changes."
   ]
  },
  {
   "cell_type": "code",
   "execution_count": null,
   "id": "06aaacbf-8633-4b66-a4fc-f7c289c03127",
   "metadata": {},
   "outputs": [],
   "source": []
  },
  {
   "cell_type": "code",
   "execution_count": null,
   "id": "ecf3bc79-2745-49b7-98b0-aeeef5f5d3a7",
   "metadata": {},
   "outputs": [],
   "source": []
  },
  {
   "cell_type": "code",
   "execution_count": null,
   "id": "556874f3-6ead-4541-9320-eb1c4b616a93",
   "metadata": {},
   "outputs": [],
   "source": []
  }
 ],
 "metadata": {
  "kernelspec": {
   "display_name": "Python 3 (ipykernel)",
   "language": "python",
   "name": "python3"
  },
  "language_info": {
   "codemirror_mode": {
    "name": "ipython",
    "version": 3
   },
   "file_extension": ".py",
   "mimetype": "text/x-python",
   "name": "python",
   "nbconvert_exporter": "python",
   "pygments_lexer": "ipython3",
   "version": "3.12.3"
  }
 },
 "nbformat": 4,
 "nbformat_minor": 5
}
